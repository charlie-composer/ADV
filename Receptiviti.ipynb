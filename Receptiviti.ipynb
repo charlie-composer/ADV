{
  "nbformat": 4,
  "nbformat_minor": 0,
  "metadata": {
    "colab": {
      "provenance": [],
      "include_colab_link": true
    },
    "kernelspec": {
      "name": "python3",
      "display_name": "Python 3"
    },
    "language_info": {
      "name": "python"
    }
  },
  "cells": [
    {
      "cell_type": "markdown",
      "metadata": {
        "id": "view-in-github",
        "colab_type": "text"
      },
      "source": [
        "<a href=\"https://colab.research.google.com/github/charlie-composer/ADV/blob/main/Receptiviti.ipynb\" target=\"_parent\"><img src=\"https://colab.research.google.com/assets/colab-badge.svg\" alt=\"Open In Colab\"/></a>"
      ]
    },
    {
      "cell_type": "code",
      "source": [
        "import os\n",
        "import re\n",
        "import pandas as pd\n",
        "import json\n",
        "import requests\n",
        "\n",
        "url = 'https://api.receptiviti.com/v1/score'\n",
        "api_key = '4b7421e8f8d845138ebab4627d4dcdb9'\n",
        "api_secret = 'ZHlcOtlC7HY+fYPxXLlpefEU8ufv7LWBicBsDCNMwHHO7XdmDf+hT2rg'"
      ],
      "metadata": {
        "id": "XmBF9iZPBEdZ"
      },
      "execution_count": 1,
      "outputs": []
    },
    {
      "cell_type": "code",
      "source": [
        "# Definir la carpeta de entrada\n",
        "input_folder = \"/content/archivos\"\n",
        "\n",
        "# Crear un DataFrame vacío para almacenar los resultados\n",
        "df = pd.DataFrame()\n",
        "\n",
        "# Iterar sobre los archivos de texto en la carpeta de entrada\n",
        "for filename in os.listdir(input_folder):\n",
        "    if filename.endswith(\".txt\"):\n",
        "        # Leer el archivo de texto\n",
        "        with open(os.path.join(input_folder, filename), 'r') as f:\n",
        "            text = f.read()\n",
        "\n",
        "        # Eliminar los números\n",
        "        text_without_numbers = re.sub(r'\\d+', '', text)\n",
        "\n",
        "        # Eliminar los saltos de línea\n",
        "        final_text = text_without_numbers.replace('\\n', ' ')\n",
        "\n",
        "        # Extraer el request_id del nombre del archivo (sin la extensión)\n",
        "        request_id = os.path.splitext(filename)[0]\n",
        "\n",
        "        # Hacer la solicitud\n",
        "        data = json.dumps({\n",
        "            'request_id': request_id,\n",
        "            'content': final_text})\n",
        "        resp = requests.post(url, auth=(api_key, api_secret), data=data)\n",
        "        result = resp.json()\n",
        "\n",
        "        # Agregar el resultado al DataFrame\n",
        "        df = df.append(result, ignore_index=True)\n",
        "\n",
        "print(df)\n"
      ],
      "metadata": {
        "colab": {
          "base_uri": "https://localhost:8080/"
        },
        "id": "7vScKY_pDbxt",
        "outputId": "dea54df9-3ca1-42c0-eb79-115b9c6f9c85"
      },
      "execution_count": 10,
      "outputs": [
        {
          "output_type": "stream",
          "name": "stderr",
          "text": [
            "<ipython-input-10-55a1ff85dee5>:31: FutureWarning: The frame.append method is deprecated and will be removed from pandas in a future version. Use pandas.concat instead.\n",
            "  df = df.append(result, ignore_index=True)\n"
          ]
        },
        {
          "output_type": "stream",
          "name": "stdout",
          "text": [
            "                                          plan_usage  \\\n",
            "0  {'word_limit': 32000000, 'words_used': 810392,...   \n",
            "1  {'word_limit': 32000000, 'words_used': 891998,...   \n",
            "\n",
            "                                             results  \n",
            "0  [{'response_id': '36e2f4cf-65d5-4a3e-8ba3-62e9...  \n",
            "1  [{'response_id': 'f75eb746-940e-402e-9614-1f3e...  \n"
          ]
        },
        {
          "output_type": "stream",
          "name": "stderr",
          "text": [
            "<ipython-input-10-55a1ff85dee5>:31: FutureWarning: The frame.append method is deprecated and will be removed from pandas in a future version. Use pandas.concat instead.\n",
            "  df = df.append(result, ignore_index=True)\n"
          ]
        }
      ]
    },
    {
      "cell_type": "code",
      "source": [
        "df"
      ],
      "metadata": {
        "colab": {
          "base_uri": "https://localhost:8080/",
          "height": 940
        },
        "id": "R3QOnOL-GQvL",
        "outputId": "7d77ac5b-1df2-405e-e5b3-35ae235d1740"
      },
      "execution_count": 11,
      "outputs": [
        {
          "output_type": "execute_result",
          "data": {
            "text/plain": [
              "                                          plan_usage  \\\n",
              "0  {'word_limit': 32000000, 'words_used': 810392,...   \n",
              "1  {'word_limit': 32000000, 'words_used': 891998,...   \n",
              "\n",
              "                                             results  \n",
              "0  [{'response_id': '36e2f4cf-65d5-4a3e-8ba3-62e9...  \n",
              "1  [{'response_id': 'f75eb746-940e-402e-9614-1f3e...  "
            ],
            "text/html": [
              "\n",
              "  <div id=\"df-8df44359-ba69-4948-b841-a0d982a2ef7c\">\n",
              "    <div class=\"colab-df-container\">\n",
              "      <div>\n",
              "<style scoped>\n",
              "    .dataframe tbody tr th:only-of-type {\n",
              "        vertical-align: middle;\n",
              "    }\n",
              "\n",
              "    .dataframe tbody tr th {\n",
              "        vertical-align: top;\n",
              "    }\n",
              "\n",
              "    .dataframe thead th {\n",
              "        text-align: right;\n",
              "    }\n",
              "</style>\n",
              "<table border=\"1\" class=\"dataframe\">\n",
              "  <thead>\n",
              "    <tr style=\"text-align: right;\">\n",
              "      <th></th>\n",
              "      <th>plan_usage</th>\n",
              "      <th>results</th>\n",
              "    </tr>\n",
              "  </thead>\n",
              "  <tbody>\n",
              "    <tr>\n",
              "      <th>0</th>\n",
              "      <td>{'word_limit': 32000000, 'words_used': 810392,...</td>\n",
              "      <td>[{'response_id': '36e2f4cf-65d5-4a3e-8ba3-62e9...</td>\n",
              "    </tr>\n",
              "    <tr>\n",
              "      <th>1</th>\n",
              "      <td>{'word_limit': 32000000, 'words_used': 891998,...</td>\n",
              "      <td>[{'response_id': 'f75eb746-940e-402e-9614-1f3e...</td>\n",
              "    </tr>\n",
              "  </tbody>\n",
              "</table>\n",
              "</div>\n",
              "      <button class=\"colab-df-convert\" onclick=\"convertToInteractive('df-8df44359-ba69-4948-b841-a0d982a2ef7c')\"\n",
              "              title=\"Convert this dataframe to an interactive table.\"\n",
              "              style=\"display:none;\">\n",
              "        \n",
              "  <svg xmlns=\"http://www.w3.org/2000/svg\" height=\"24px\"viewBox=\"0 0 24 24\"\n",
              "       width=\"24px\">\n",
              "    <path d=\"M0 0h24v24H0V0z\" fill=\"none\"/>\n",
              "    <path d=\"M18.56 5.44l.94 2.06.94-2.06 2.06-.94-2.06-.94-.94-2.06-.94 2.06-2.06.94zm-11 1L8.5 8.5l.94-2.06 2.06-.94-2.06-.94L8.5 2.5l-.94 2.06-2.06.94zm10 10l.94 2.06.94-2.06 2.06-.94-2.06-.94-.94-2.06-.94 2.06-2.06.94z\"/><path d=\"M17.41 7.96l-1.37-1.37c-.4-.4-.92-.59-1.43-.59-.52 0-1.04.2-1.43.59L10.3 9.45l-7.72 7.72c-.78.78-.78 2.05 0 2.83L4 21.41c.39.39.9.59 1.41.59.51 0 1.02-.2 1.41-.59l7.78-7.78 2.81-2.81c.8-.78.8-2.07 0-2.86zM5.41 20L4 18.59l7.72-7.72 1.47 1.35L5.41 20z\"/>\n",
              "  </svg>\n",
              "      </button>\n",
              "      \n",
              "  <style>\n",
              "    .colab-df-container {\n",
              "      display:flex;\n",
              "      flex-wrap:wrap;\n",
              "      gap: 12px;\n",
              "    }\n",
              "\n",
              "    .colab-df-convert {\n",
              "      background-color: #E8F0FE;\n",
              "      border: none;\n",
              "      border-radius: 50%;\n",
              "      cursor: pointer;\n",
              "      display: none;\n",
              "      fill: #1967D2;\n",
              "      height: 32px;\n",
              "      padding: 0 0 0 0;\n",
              "      width: 32px;\n",
              "    }\n",
              "\n",
              "    .colab-df-convert:hover {\n",
              "      background-color: #E2EBFA;\n",
              "      box-shadow: 0px 1px 2px rgba(60, 64, 67, 0.3), 0px 1px 3px 1px rgba(60, 64, 67, 0.15);\n",
              "      fill: #174EA6;\n",
              "    }\n",
              "\n",
              "    [theme=dark] .colab-df-convert {\n",
              "      background-color: #3B4455;\n",
              "      fill: #D2E3FC;\n",
              "    }\n",
              "\n",
              "    [theme=dark] .colab-df-convert:hover {\n",
              "      background-color: #434B5C;\n",
              "      box-shadow: 0px 1px 3px 1px rgba(0, 0, 0, 0.15);\n",
              "      filter: drop-shadow(0px 1px 2px rgba(0, 0, 0, 0.3));\n",
              "      fill: #FFFFFF;\n",
              "    }\n",
              "  </style>\n",
              "\n",
              "      <script>\n",
              "        const buttonEl =\n",
              "          document.querySelector('#df-8df44359-ba69-4948-b841-a0d982a2ef7c button.colab-df-convert');\n",
              "        buttonEl.style.display =\n",
              "          google.colab.kernel.accessAllowed ? 'block' : 'none';\n",
              "\n",
              "        async function convertToInteractive(key) {\n",
              "          const element = document.querySelector('#df-8df44359-ba69-4948-b841-a0d982a2ef7c');\n",
              "          const dataTable =\n",
              "            await google.colab.kernel.invokeFunction('convertToInteractive',\n",
              "                                                     [key], {});\n",
              "          if (!dataTable) return;\n",
              "\n",
              "          const docLinkHtml = 'Like what you see? Visit the ' +\n",
              "            '<a target=\"_blank\" href=https://colab.research.google.com/notebooks/data_table.ipynb>data table notebook</a>'\n",
              "            + ' to learn more about interactive tables.';\n",
              "          element.innerHTML = '';\n",
              "          dataTable['output_type'] = 'display_data';\n",
              "          await google.colab.output.renderOutput(dataTable, element);\n",
              "          const docLink = document.createElement('div');\n",
              "          docLink.innerHTML = docLinkHtml;\n",
              "          element.appendChild(docLink);\n",
              "        }\n",
              "      </script>\n",
              "    </div>\n",
              "  </div>\n",
              "  "
            ]
          },
          "metadata": {},
          "execution_count": 11
        }
      ]
    }
  ]
}