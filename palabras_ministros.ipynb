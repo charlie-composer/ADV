{
  "nbformat": 4,
  "nbformat_minor": 0,
  "metadata": {
    "colab": {
      "provenance": [],
      "authorship_tag": "ABX9TyNEVkc/9Heym57NyEeHLcii",
      "include_colab_link": true
    },
    "kernelspec": {
      "name": "python3",
      "display_name": "Python 3"
    },
    "language_info": {
      "name": "python"
    }
  },
  "cells": [
    {
      "cell_type": "markdown",
      "metadata": {
        "id": "view-in-github",
        "colab_type": "text"
      },
      "source": [
        "<a href=\"https://colab.research.google.com/github/charlie-composer/ADV/blob/main/palabras_ministros.ipynb\" target=\"_parent\"><img src=\"https://colab.research.google.com/assets/colab-badge.svg\" alt=\"Open In Colab\"/></a>"
      ]
    },
    {
      "cell_type": "code",
      "execution_count": null,
      "metadata": {
        "id": "c0Ka3GaqRhUZ"
      },
      "outputs": [],
      "source": [
        "import os\n",
        "import re\n",
        "from collections import Counter\n",
        "\n",
        "def remove_stopwords(text, stopwords):\n",
        "    # Eliminar stopwords del texto\n",
        "    words = re.findall(r'\\w+', text.lower())\n",
        "    filtered_words = [word for word in words if word not in stopwords]\n",
        "    return filtered_words\n",
        "\n",
        "def calculate_percentage(word_count, total_words):\n",
        "    # Calcular el porcentaje de palabras encontradas en el diccionario\n",
        "    percentage = (word_count / total_words) * 100\n",
        "    return percentage\n",
        "\n",
        "# Ruta al archivo que contiene todas las palabras en castellano\n",
        "dictionary_file = 'ruta/a/diccionario.txt'\n",
        "\n",
        "# Leer el archivo de diccionario y obtener todas las palabras\n",
        "with open(dictionary_file, 'r', encoding='utf-8') as f:\n",
        "    dictionary_words = set(f.read().splitlines())\n",
        "\n",
        "# Ruta a la carpeta que contiene los archivos de texto\n",
        "text_folder = 'ruta/a/carpeta_de_texto'\n",
        "\n",
        "\n",
        "\n"
      ]
    },
    {
      "cell_type": "code",
      "source": [
        "# Lista de stopwords en castellano\n",
        "stopwords = ['a', 'al', 'ante', 'bajo', 'cabe', 'con', 'contra', 'de', 'desde', 'e', 'el', 'en', 'entre', 'hacia', 'hasta', 'la', 'las', 'los', 'para', 'por', 'se', 'segun', 'sin', 'so', 'sobre', 'tras', 'un', 'una', 'y']\n",
        "stopwords = [\n",
        "    'a', 'al', 'algo', 'algunas', 'algunos', 'ante', 'antes', 'como', 'con', 'contra', 'cual', 'cuando', 'de', 'del',\n",
        "    'desde', 'donde', 'durante', 'e', 'el', 'ella', 'ellas', 'ellos', 'en', 'entre', 'era', 'erais', 'eran', 'eras',\n",
        "    'eres', 'es', 'esa', 'esas', 'ese', 'eso', 'esos', 'esta', 'estaba', 'estabais', 'estaban', 'estabas', 'estad',\n",
        "    'estada', 'estadas', 'estado', 'estados', 'estamos', 'estando', 'estar', 'estaremos', 'estará', 'estarán', 'estarás',\n",
        "    'estaré', 'estaréis', 'estaría', 'estaríais', 'estaríamos', 'estarían', 'estarías', 'estas', 'este', 'estemos',\n",
        "    'esto', 'estos', 'estoy', 'estuve', 'estuviera', 'estuvierais', 'estuvieran', 'estuvieras', 'estuvieron',\n",
        "    'estuviese', 'estuvieseis', 'estuviesen', 'estuvieses', 'estuvimos', 'estuviste', 'estuvisteis', 'estuviéramos',\n",
        "    'estuviésemos', 'estuvo', 'está', 'estábamos', 'estáis', 'están', 'estás', 'esté', 'estéis', 'estén', 'estés',\n",
        "    'fui', 'fuimos', 'fuiste', 'fuisteis', 'fuéramos', 'fuésemos', 'fueron', 'fuese', 'fueseis', 'fuesen', 'fueses',\n",
        "    'fui', 'fuimos', 'fuiste', 'fuisteis', 'fuéramos', 'fuésemos', 'fueron', 'fuese', 'fueseis', 'fuesen', 'fueses',\n",
        "    'ha', 'habida', 'habidas', 'habido', 'habidos', 'habiendo', 'habremos', 'habrá', 'habrán', 'habrás', 'habré',\n",
        "    'habréis', 'habría', 'habríais', 'habríamos', 'habrían', 'habrías', 'han', 'has', 'hasta', 'hay', 'haya', 'hayamos',\n",
        "    'hayan', 'hayas', 'he', 'hemos', 'hube', 'hubiera', 'hubierais', 'hubieran', 'hubieras', 'hubieron', 'hubiese',\n",
        "    'hubieseis', 'hubiesen', 'hubieses', 'hubimos', 'hubiste', 'hubisteis', 'hubiéramos', 'hubiésemos', 'hubo',\n",
        "    'la', 'las', 'le', 'les', 'lo', 'los', 'me', 'mi', 'mis', 'mucho', 'muchos', 'muy', 'más', 'mí', 'mía', 'mías',\n",
        "    'mío', 'míos', 'nada', 'ni', 'no', 'nos', 'nosotras', 'nosotros', 'nuestra', 'nuestras', 'nuestro', 'nuestros',\n",
        "    'nunca', 'os', 'otra', 'otras', 'otro', 'otros', 'para', 'pero', 'por', 'porque', 'que', 'quienes', 'quien',\n",
        "    'qué', 'se', 'sea', 'seamos', 'sean', 'seas', 'seremos', 'será', 'serán', 'serás', 'seré', 'seréis', 'sería',\n",
        "    'seríais', 'seríamos', 'serían', 'serías', 'seáis', 'sido', 'siendo', 'sin', 'sobre', 'sois', 'somos', 'son',\n",
        "    'soy', 'su', 'sus', 'suya', 'suyas', 'suyo', 'suyos', 'sí', 'también', 'tanto', 'te', 'tendremos', 'tendrá',\n",
        "    'tendrán', 'tendrás', 'tendré', 'tendréis', 'tendría', 'tendríais', 'tendríamos', 'tendrían', 'tendrías', 'tened',\n",
        "    'tenemos', 'tener', 'tenga', 'tengamos', 'tengan', 'tengas', 'tengo', 'tengáis', 'tenida', 'tenidas', 'tenido',\n",
        "    'tenidos', 'teniendo', 'tenéis', 'tenía', 'teníais', 'teníamos', 'tenían', 'tenías', 'ti', 'tiene', 'tienen',\n",
        "    'tienes', 'todo', 'todos', 'tu', 'tus', 'tuve', 'tuviera', 'tuvierais', 'tuvieran', 'tuvieras', 'tuvieron',\n",
        "    'tuviese', 'tuvieseis', 'tuviesen', 'tuvieses', 'tuvimos', 'tuviste', 'tuvisteis', 'tuviéramos', 'tuviésemos',\n",
        "    'tuvo', 'tuya', 'tuyas', 'tuyo', 'tuyos', 'tú', 'un', 'una', 'uno', 'unos', 'vosotras', 'vosotros', 'vuestra',\n",
        "    'vuestras', 'vuestro', 'vuestros', 'y', 'ya', 'yo', 'señores', 'señoras', 'presidente', 'presidenta', 'señoría', 'señorías', 'diputados', 'ministro','diputado', 'ministros',\n",
        "    'congreso', 'senado', 'España'\n",
        "\n",
        "]\n"
      ],
      "metadata": {
        "id": "mJfs8mRtSpqv"
      },
      "execution_count": null,
      "outputs": []
    },
    {
      "cell_type": "code",
      "source": [
        "# Iterar sobre los archivos de texto\n",
        "for filename in os.listdir(text_folder):\n",
        "    if filename.endswith('.txt'):\n",
        "        file_path = os.path.join(text_folder, filename)\n",
        "        with open(file_path, 'r', encoding='utf-8') as f:\n",
        "            text = f.read()\n",
        "            # Eliminar stopwords del texto\n",
        "            filtered_text = remove_stopwords(text, stopwords)\n",
        "            # Contar las palabras encontradas en el diccionario\n",
        "            word_count = sum(1 for word in filtered_text if word in dictionary_words)\n",
        "            # Calcular porcentajes\n",
        "            total_words = len(filtered_text)\n",
        "            percentage_global = calculate_percentage(word_count, total_words)\n",
        "            unique_words = set(filtered_text)\n",
        "            percentage_unique = calculate_percentage(len(unique_words), total_words)\n",
        "            # Imprimir resultados\n",
        "            print(f'Archivo: {filename}')\n",
        "            print(f'Porcentaje de palabras encontradas en el diccionario (Global): {percentage_global:.2f}%')\n",
        "            print(f'Porcentaje de palabras encontradas en el diccionario (Únicas): {percentage_unique:.2f}%')\n",
        "            print('---')"
      ],
      "metadata": {
        "id": "Hg9KnLfUSs91"
      },
      "execution_count": null,
      "outputs": []
    }
  ]
}